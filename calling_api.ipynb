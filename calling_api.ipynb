{
 "cells": [
  {
   "cell_type": "code",
   "execution_count": 207,
   "id": "51a068b2",
   "metadata": {},
   "outputs": [],
   "source": [
    "import requests\n",
    "import json\n",
    "import pandas as pd\n",
    "import numpy as np"
   ]
  },
  {
   "cell_type": "markdown",
   "id": "9d22d3a4",
   "metadata": {},
   "source": [
    "## Sending requests to API"
   ]
  },
  {
   "cell_type": "code",
   "execution_count": 208,
   "id": "9d0153bf",
   "metadata": {},
   "outputs": [],
   "source": [
    "dataset_json = [\n",
    "  {\n",
    "    \"Applicant ID\": \"1\",\n",
    "    \"School Name\": \"Providence University\",\n",
    "    \"GPA\": \"3.81\",\n",
    "    \"Degree\": \"Bachelors\",\n",
    "    \"Location\": \"Providence\",\n",
    "    \"Gender\": \"M\",\n",
    "    \"Veteran status\": \"1\",\n",
    "    \"Work authorization\": \"1\",\n",
    "    \"Disability\": \"0\",\n",
    "    \"Ethnicity\": \"1\",\n",
    "    \"Role 1\": \"Junior SWE\",\n",
    "    \"Start 1\": \"5/20\",\n",
    "    \"End 1\": \"N/A\",\n",
    "    \"Role 2\": \"N/A\",\n",
    "    \"Start 2\": \"N/A\",\n",
    "    \"End 2\": \"N/A\",\n",
    "    \"Role 3\": \"N/A\",\n",
    "    \"Start 3\": \"N/A\",\n",
    "    \"End 3\": \"N/A\"\n",
    "  },\n",
    "  {\n",
    "    \"Applicant ID\": \"2\",\n",
    "    \"School Name\": \"Providence State University\",\n",
    "    \"GPA\": \"3.62\",\n",
    "    \"Degree\": \"Phd\",\n",
    "    \"Location\": \"Boston\",\n",
    "    \"Gender\": \"F\",\n",
    "    \"Veteran status\": \"0\",\n",
    "    \"Work authorization\": \"1\",\n",
    "    \"Disability\": \"0\",\n",
    "    \"Ethnicity\": \"1\",\n",
    "    \"Role 1\": \"Senior SWE\",\n",
    "    \"Start 1\": \"2/23\",\n",
    "    \"End 1\": \"N/A\",\n",
    "    \"Role 2\": \"Junior SWE\",\n",
    "    \"Start 2\": \"2/23\",\n",
    "    \"End 2\": \"5/20\",\n",
    "    \"Role 3\": \"Research Assistant\",\n",
    "    \"Start 3\": \"2/18\",\n",
    "    \"End 3\": \"5/20\"\n",
    "  },\n",
    "  {\n",
    "    \"Applicant ID\": \"3\",\n",
    "    \"School Name\": \"State Providence College\",\n",
    "    \"GPA\": \"3.45\",\n",
    "    \"Degree\": \"Bachelors\",\n",
    "    \"Location\": \"Los Angeles\",\n",
    "    \"Gender\": \"N/A\",\n",
    "    \"Veteran status\": \"N/A\",\n",
    "    \"Work authorization\": \"1\",\n",
    "    \"Disability\": \"0\",\n",
    "    \"Ethnicity\": \"0\",\n",
    "    \"Role 1\": \"Data scientist\",\n",
    "    \"Start 1\": \"3/19\",\n",
    "    \"End 1\": \"N/A\",\n",
    "    \"Role 2\": \"N/A\",\n",
    "    \"Start 2\": \"N/A\",\n",
    "    \"End 2\": \"N/A\",\n",
    "    \"Role 3\": \"N/A\",\n",
    "    \"Start 3\": \"N/A\",\n",
    "    \"End 3\": \"N/A\"\n",
    "  },\n",
    "  {\n",
    "    \"Applicant ID\": \"4\",\n",
    "    \"School Name\": \"Providence School\",\n",
    "    \"GPA\": \"3.37\",\n",
    "    \"Degree\": \"Masters\",\n",
    "    \"Location\": \"Miami\",\n",
    "    \"Gender\": \"M\",\n",
    "    \"Veteran status\": \"0\",\n",
    "    \"Work authorization\": \"0\",\n",
    "    \"Disability\": \"0\",\n",
    "    \"Ethnicity\": \"1\",\n",
    "    \"Role 1\": \"Lawyer\",\n",
    "    \"Start 1\": \"7/19\",\n",
    "    \"End 1\": \"N/A\",\n",
    "    \"Role 2\": \"Teaching Assistant\",\n",
    "    \"Start 2\": \"18-Sep\",\n",
    "    \"End 2\": \"5/19\",\n",
    "    \"Role 3\": \"N/A\",\n",
    "    \"Start 3\": \"N/A\",\n",
    "    \"End 3\": \"N/A\"\n",
    "  },\n",
    "  {\n",
    "    \"Applicant ID\": \"5\",\n",
    "    \"School Name\": \"State Providence College\",\n",
    "    \"GPA\": \"3.03\",\n",
    "    \"Degree\": \"Bachelors\",\n",
    "    \"Location\": \"Chicago\",\n",
    "    \"Gender\": \"F\",\n",
    "    \"Veteran status\": \"1\",\n",
    "    \"Work authorization\": \"1\",\n",
    "    \"Disability\": \"0\",\n",
    "    \"Ethnicity\": \"1\",\n",
    "    \"Role 1\": \"ML Engineer\",\n",
    "    \"Start 1\": \"5/21\",\n",
    "    \"End 1\": \"6/23\",\n",
    "    \"Role 2\": \"N/A\",\n",
    "    \"Start 2\": \"N/A\",\n",
    "    \"End 2\": \"N/A\",\n",
    "    \"Role 3\": \"N/A\",\n",
    "    \"Start 3\": \"N/A\",\n",
    "    \"End 3\": \"N/A\"\n",
    "  }\n",
    "]"
   ]
  },
  {
   "cell_type": "code",
   "execution_count": 209,
   "id": "67297293",
   "metadata": {},
   "outputs": [
    {
     "name": "stdout",
     "output_type": "stream",
     "text": [
      "{\"prediction\":\"[{\\\"applicant_id\\\": \\\"1\\\", \\\"score\\\": \\\"5.8\\\"}, {\\\"applicant_id\\\": \\\"2\\\", \\\"score\\\": \\\"5.38\\\"}, {\\\"applicant_id\\\": \\\"3\\\", \\\"score\\\": \\\"0.17\\\"}, {\\\"applicant_id\\\": \\\"4\\\", \\\"score\\\": \\\"8.01\\\"}, {\\\"applicant_id\\\": \\\"5\\\", \\\"score\\\": \\\"0.39\\\"}]\"}\n",
      "\n"
     ]
    }
   ],
   "source": [
    "# call the first API - resume scorer\n",
    "dataset = json.dumps(dataset_json)\n",
    "\n",
    "url = 'https://jennjwang.pythonanywhere.com'\n",
    "headers = {'Content-Type': 'application/json'}\n",
    "\n",
    "response = requests.post(url, data=dataset, headers=headers)\n",
    "print(response.text)"
   ]
  },
  {
   "cell_type": "code",
   "execution_count": 210,
   "id": "e9619cef",
   "metadata": {},
   "outputs": [],
   "source": [
    "response_data = json.loads(response.text)\n",
    "predictions = json.loads(response_data['prediction'])\n",
    "score_map = {item['applicant_id']: item['score'] for item in predictions}\n",
    "\n",
    "for applicant in dataset_json:\n",
    "    applicant_id = str(applicant['Applicant ID'])\n",
    "    if applicant_id in score_map:\n",
    "        applicant['Resume score'] = score_map[applicant_id]\n",
    "\n",
    "updated_dataset_json_view = json.dumps(dataset_json)\n",
    "# print(updated_dataset_json_view)"
   ]
  },
  {
   "cell_type": "code",
   "execution_count": 211,
   "id": "796ea664",
   "metadata": {},
   "outputs": [
    {
     "name": "stdout",
     "output_type": "stream",
     "text": [
      "{\"prediction\":\"[{\\\"applicant_id\\\": \\\"1\\\", \\\"prediction\\\": \\\"1\\\"}, {\\\"applicant_id\\\": \\\"2\\\", \\\"prediction\\\": \\\"0\\\"}, {\\\"applicant_id\\\": \\\"3\\\", \\\"prediction\\\": \\\"0\\\"}, {\\\"applicant_id\\\": \\\"4\\\", \\\"prediction\\\": \\\"0\\\"}, {\\\"applicant_id\\\": \\\"5\\\", \\\"prediction\\\": \\\"0\\\"}]\"}\n",
      "\n"
     ]
    }
   ],
   "source": [
    "# call the second API - candidate scorer\n",
    "\n",
    "url = 'https://heonlee.pythonanywhere.com'\n",
    "headers = {'Content-Type': 'application/json'}\n",
    "\n",
    "response = requests.post(url, data=updated_dataset_json, headers=headers)\n",
    "print(response.text)"
   ]
  },
  {
   "cell_type": "code",
   "execution_count": 212,
   "id": "2c02bb28",
   "metadata": {},
   "outputs": [
    {
     "name": "stdout",
     "output_type": "stream",
     "text": [
      "[{\"Applicant ID\": \"1\", \"School Name\": \"Providence University\", \"GPA\": \"3.81\", \"Degree\": \"Bachelors\", \"Location\": \"Providence\", \"Gender\": \"M\", \"Veteran status\": \"1\", \"Work authorization\": \"1\", \"Disability\": \"0\", \"Ethnicity\": \"1\", \"Role 1\": \"Junior SWE\", \"Start 1\": \"5/20\", \"End 1\": \"N/A\", \"Role 2\": \"N/A\", \"Start 2\": \"N/A\", \"End 2\": \"N/A\", \"Role 3\": \"N/A\", \"Start 3\": \"N/A\", \"End 3\": \"N/A\", \"Resume score\": \"5.8\", \"Interview prediction\": \"1\"}, {\"Applicant ID\": \"2\", \"School Name\": \"Providence State University\", \"GPA\": \"3.62\", \"Degree\": \"Phd\", \"Location\": \"Boston\", \"Gender\": \"F\", \"Veteran status\": \"0\", \"Work authorization\": \"1\", \"Disability\": \"0\", \"Ethnicity\": \"1\", \"Role 1\": \"Senior SWE\", \"Start 1\": \"2/23\", \"End 1\": \"N/A\", \"Role 2\": \"Junior SWE\", \"Start 2\": \"2/23\", \"End 2\": \"5/20\", \"Role 3\": \"Research Assistant\", \"Start 3\": \"2/18\", \"End 3\": \"5/20\", \"Resume score\": \"5.38\", \"Interview prediction\": \"0\"}, {\"Applicant ID\": \"3\", \"School Name\": \"State Providence College\", \"GPA\": \"3.45\", \"Degree\": \"Bachelors\", \"Location\": \"Los Angeles\", \"Gender\": \"N/A\", \"Veteran status\": \"N/A\", \"Work authorization\": \"1\", \"Disability\": \"0\", \"Ethnicity\": \"0\", \"Role 1\": \"Data scientist\", \"Start 1\": \"3/19\", \"End 1\": \"N/A\", \"Role 2\": \"N/A\", \"Start 2\": \"N/A\", \"End 2\": \"N/A\", \"Role 3\": \"N/A\", \"Start 3\": \"N/A\", \"End 3\": \"N/A\", \"Resume score\": \"0.17\", \"Interview prediction\": \"0\"}, {\"Applicant ID\": \"4\", \"School Name\": \"Providence School\", \"GPA\": \"3.37\", \"Degree\": \"Masters\", \"Location\": \"Miami\", \"Gender\": \"M\", \"Veteran status\": \"0\", \"Work authorization\": \"0\", \"Disability\": \"0\", \"Ethnicity\": \"1\", \"Role 1\": \"Lawyer\", \"Start 1\": \"7/19\", \"End 1\": \"N/A\", \"Role 2\": \"Teaching Assistant\", \"Start 2\": \"18-Sep\", \"End 2\": \"5/19\", \"Role 3\": \"N/A\", \"Start 3\": \"N/A\", \"End 3\": \"N/A\", \"Resume score\": \"8.01\", \"Interview prediction\": \"0\"}, {\"Applicant ID\": \"5\", \"School Name\": \"State Providence College\", \"GPA\": \"3.03\", \"Degree\": \"Bachelors\", \"Location\": \"Chicago\", \"Gender\": \"F\", \"Veteran status\": \"1\", \"Work authorization\": \"1\", \"Disability\": \"0\", \"Ethnicity\": \"1\", \"Role 1\": \"ML Engineer\", \"Start 1\": \"5/21\", \"End 1\": \"6/23\", \"Role 2\": \"N/A\", \"Start 2\": \"N/A\", \"End 2\": \"N/A\", \"Role 3\": \"N/A\", \"Start 3\": \"N/A\", \"End 3\": \"N/A\", \"Resume score\": \"0.39\", \"Interview prediction\": \"0\"}]\n"
     ]
    }
   ],
   "source": [
    "# final dataset\n",
    "final_response_data = json.loads(response.text)\n",
    "final_predictions = json.loads(final_response_data['prediction'])\n",
    "final_score_map = {item['applicant_id']: item['prediction'] for item in final_predictions}\n",
    "for applicant in dataset_json:\n",
    "    applicant_id = applicant['Applicant ID']\n",
    "    if applicant_id in final_score_map:\n",
    "        applicant['Interview prediction'] = final_score_map[applicant_id]\n",
    "\n",
    "final_dataset_json_view = json.dumps(dataset_json)\n",
    "print(final_dataset_json_view)"
   ]
  },
  {
   "cell_type": "code",
   "execution_count": 213,
   "id": "81197f87",
   "metadata": {},
   "outputs": [
    {
     "name": "stdout",
     "output_type": "stream",
     "text": [
      "  Applicant ID                  School Name   GPA     Degree     Location  \\\n",
      "0            1        Providence University  3.81  Bachelors   Providence   \n",
      "1            2  Providence State University  3.62        Phd       Boston   \n",
      "2            3     State Providence College  3.45  Bachelors  Los Angeles   \n",
      "3            4            Providence School  3.37    Masters        Miami   \n",
      "4            5     State Providence College  3.03  Bachelors      Chicago   \n",
      "\n",
      "  Gender Veteran status Work authorization Disability Ethnicity  ... Start 1  \\\n",
      "0      M              1                  1          0         1  ...    5/20   \n",
      "1      F              0                  1          0         1  ...    2/23   \n",
      "2    N/A            N/A                  1          0         0  ...    3/19   \n",
      "3      M              0                  0          0         1  ...    7/19   \n",
      "4      F              1                  1          0         1  ...    5/21   \n",
      "\n",
      "  End 1              Role 2 Start 2 End 2              Role 3 Start 3 End 3  \\\n",
      "0   N/A                 N/A     N/A   N/A                 N/A     N/A   N/A   \n",
      "1   N/A          Junior SWE    2/23  5/20  Research Assistant    2/18  5/20   \n",
      "2   N/A                 N/A     N/A   N/A                 N/A     N/A   N/A   \n",
      "3   N/A  Teaching Assistant  18-Sep  5/19                 N/A     N/A   N/A   \n",
      "4  6/23                 N/A     N/A   N/A                 N/A     N/A   N/A   \n",
      "\n",
      "  Resume score Interview prediction  \n",
      "0          5.8                    1  \n",
      "1         5.38                    0  \n",
      "2         0.17                    0  \n",
      "3         8.01                    0  \n",
      "4         0.39                    0  \n",
      "\n",
      "[5 rows x 21 columns]\n"
     ]
    }
   ],
   "source": [
    "df = pd.DataFrame(dataset_json)\n",
    "print(df)"
   ]
  },
  {
   "cell_type": "markdown",
   "id": "edbc8a76",
   "metadata": {},
   "source": [
    "## Fairness metrics to evaluate the model"
   ]
  },
  {
   "cell_type": "code",
   "execution_count": 214,
   "id": "984668ee",
   "metadata": {},
   "outputs": [],
   "source": [
    "# Statistical Parity Difference\n",
    "def spd(sensitive_attribute, dataset, predicted_labels, majority_class, minority_class):\n",
    "    \"\"\"\n",
    "    Calculate the Statistical Parity Difference (SPD) between majority and minority classes based on predicted labels.\n",
    "\n",
    "    Parameters:\n",
    "    - sensitive_attribute (str): Name of the column representing the sensitive attribute.\n",
    "    - dataset (pd.DataFrame): The dataset containing the sensitive attribute and true outcome variable.\n",
    "    - predicted_labels (pd.Series): Predicted labels for the outcome variable.\n",
    "    - majority_class: Value representing the majority class in the sensitive attribute.\n",
    "    - minority_class: Value representing the minority class in the sensitive attribute.\n",
    "\n",
    "    Returns:\n",
    "    - spd (float): Statistical Parity Difference between majority and minority classes.\n",
    "    \"\"\"\n",
    "    predicted_labels = pd.to_numeric(predicted_labels)\n",
    "    predicted_labels_series = pd.Series(predicted_labels, index=dataset.index)\n",
    "    majority = dataset[dataset[sensitive_attribute] == majority_class]\n",
    "    minority = dataset[dataset[sensitive_attribute] == minority_class]\n",
    "\n",
    "    p_majority = predicted_labels_series[majority.index].mean()\n",
    "    p_minority = predicted_labels_series[minority.index].mean()\n",
    "\n",
    "    spd_val =  p_minority - p_majority\n",
    "    return spd_val"
   ]
  },
  {
   "cell_type": "code",
   "execution_count": 215,
   "id": "5f5c5100",
   "metadata": {},
   "outputs": [],
   "source": [
    "# Disparate Impact\n",
    "def di(sensitive_attribute, dataset, predicted_labels, majority_class, minority_class):\n",
    "    \"\"\"\n",
    "    Calculate the Disparate Impact (DI) between majority and minority classes based on predicted labels.\n",
    "\n",
    "    Parameters:\n",
    "    - sensitive_attribute (str): Name of the column representing the sensitive attribute.\n",
    "    - dataset (pd.DataFrame): The dataset containing the sensitive attribute and true outcome variable.\n",
    "    - predicted_labels (pd.Series): Predicted labels for the outcome variable.\n",
    "    - majority_class: Value representing the majority class in the sensitive attribute.\n",
    "    - minority_class: Value representing the minority class in the sensitive attribute.\n",
    "\n",
    "    Returns:\n",
    "    - di (float): Disparate Impact between majority and minority classes.\n",
    "    \"\"\"\n",
    "    predicted_labels = pd.to_numeric(predicted_labels)\n",
    "    predicted_labels_series = pd.Series(predicted_labels, index=dataset.index)\n",
    "    majority = dataset[dataset[sensitive_attribute] == majority_class]\n",
    "    minority = dataset[dataset[sensitive_attribute] == minority_class]\n",
    "\n",
    "    p_majority = predicted_labels_series[majority.index].mean()\n",
    "    p_minority = predicted_labels_series[minority.index].mean()\n",
    "\n",
    "    di_val = p_minority / p_majority\n",
    "    return di_val"
   ]
  },
  {
   "cell_type": "code",
   "execution_count": 218,
   "id": "5e44e35d",
   "metadata": {},
   "outputs": [
    {
     "data": {
      "text/plain": [
       "-0.5"
      ]
     },
     "execution_count": 218,
     "metadata": {},
     "output_type": "execute_result"
    }
   ],
   "source": [
    "# spd for current dataset\n",
    "\"\"\"\n",
    "Range: The range of SPD is [-1, 1]. \n",
    "A value of -1 indicates that all favorable outcomes are allocated to the majority group, \n",
    "whereas a value of 1 indicates that all favorable outcomes are allocated to the minority group. \n",
    "Perfect Fairness: A value of 0 indicates perfect fairness, \n",
    "meaning the probability of receiving a favorable outcome is equal for both the majority and minority groups.\n",
    "\"\"\"\n",
    "\n",
    "spd(\"Gender\", df, df[\"Interview prediction\"], \"M\", \"F\")"
   ]
  },
  {
   "cell_type": "code",
   "execution_count": 219,
   "id": "7f14068f",
   "metadata": {},
   "outputs": [
    {
     "data": {
      "text/plain": [
       "0.0"
      ]
     },
     "execution_count": 219,
     "metadata": {},
     "output_type": "execute_result"
    }
   ],
   "source": [
    "# di for current dataset\n",
    "\"\"\"\n",
    "Range: DI is a ratio, so its range is [0, ∞). \n",
    "A value of 0 indicates extreme bias against the minority group, \n",
    "and a very high value indicates extreme bias against the majority group. \n",
    "Perfect Fairness: A DI of 1 (or close to 1) represents perfect fairness, \n",
    "suggesting that the probability of receiving a favorable outcome are equal for both groups.\n",
    "\"\"\"\n",
    "\n",
    "di(\"Gender\", df, df[\"Interview prediction\"], \"M\", \"F\")"
   ]
  },
  {
   "cell_type": "code",
   "execution_count": null,
   "id": "58bcef02",
   "metadata": {},
   "outputs": [],
   "source": []
  },
  {
   "cell_type": "code",
   "execution_count": null,
   "id": "517ef9ea",
   "metadata": {},
   "outputs": [],
   "source": []
  }
 ],
 "metadata": {
  "kernelspec": {
   "display_name": "Python 3 (ipykernel)",
   "language": "python",
   "name": "python3"
  },
  "language_info": {
   "codemirror_mode": {
    "name": "ipython",
    "version": 3
   },
   "file_extension": ".py",
   "mimetype": "text/x-python",
   "name": "python",
   "nbconvert_exporter": "python",
   "pygments_lexer": "ipython3",
   "version": "3.9.12"
  }
 },
 "nbformat": 4,
 "nbformat_minor": 5
}
