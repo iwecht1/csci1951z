{
 "cells": [
  {
   "cell_type": "markdown",
   "metadata": {},
   "source": [
    "## Fairness metrics to evaluate the model"
   ]
  },
  {
   "cell_type": "code",
   "execution_count": 1,
   "metadata": {},
   "outputs": [],
   "source": [
    "# Statistical Parity Difference\n",
    "def spd(sensitive_attribute, dataset, predicted_labels, majority_class, minority_class):\n",
    "    \"\"\"\n",
    "    Calculate the Statistical Parity Difference (SPD) between majority and minority classes based on predicted labels.\n",
    "\n",
    "    Parameters:\n",
    "    - sensitive_attribute (str): Name of the column representing the sensitive attribute.\n",
    "    - dataset (pd.DataFrame): The dataset containing the sensitive attribute and true outcome variable.\n",
    "    - predicted_labels (pd.Series): Predicted labels for the outcome variable.\n",
    "    - majority_class: Value representing the majority class in the sensitive attribute.\n",
    "    - minority_class: Value representing the minority class in the sensitive attribute.\n",
    "\n",
    "    Returns:\n",
    "    - spd (float): Statistical Parity Difference between majority and minority classes.\n",
    "    \"\"\"\n",
    "    predicted_labels = pd.to_numeric(predicted_labels)\n",
    "    predicted_labels_series = pd.Series(predicted_labels, index=dataset.index)\n",
    "    majority = dataset[dataset[sensitive_attribute] == majority_class]\n",
    "    minority = dataset[dataset[sensitive_attribute] == minority_class]\n",
    "\n",
    "    p_majority = predicted_labels_series[majority.index].mean()\n",
    "    p_minority = predicted_labels_series[minority.index].mean()\n",
    "\n",
    "    spd_val =  p_minority - p_majority\n",
    "    return spd_val"
   ]
  },
  {
   "cell_type": "code",
   "execution_count": 2,
   "metadata": {},
   "outputs": [],
   "source": [
    "# Disparate Impact\n",
    "def di(sensitive_attribute, dataset, predicted_labels, majority_class, minority_class):\n",
    "    \"\"\"\n",
    "    Calculate the Disparate Impact (DI) between majority and minority classes based on predicted labels.\n",
    "\n",
    "    Parameters:\n",
    "    - sensitive_attribute (str): Name of the column representing the sensitive attribute.\n",
    "    - dataset (pd.DataFrame): The dataset containing the sensitive attribute and true outcome variable.\n",
    "    - predicted_labels (pd.Series): Predicted labels for the outcome variable.\n",
    "    - majority_class: Value representing the majority class in the sensitive attribute.\n",
    "    - minority_class: Value representing the minority class in the sensitive attribute.\n",
    "\n",
    "    Returns:\n",
    "    - di (float): Disparate Impact between majority and minority classes.\n",
    "    \"\"\"\n",
    "    predicted_labels = pd.to_numeric(predicted_labels)\n",
    "    predicted_labels_series = pd.Series(predicted_labels, index=dataset.index)\n",
    "    majority = dataset[dataset[sensitive_attribute] == majority_class]\n",
    "    minority = dataset[dataset[sensitive_attribute] == minority_class]\n",
    "\n",
    "    p_majority = predicted_labels_series[majority.index].mean()\n",
    "    p_minority = predicted_labels_series[minority.index].mean()\n",
    "\n",
    "    di_val = p_minority / p_majority\n",
    "    return di_val"
   ]
  },
  {
   "cell_type": "code",
   "execution_count": 3,
   "metadata": {},
   "outputs": [
    {
     "ename": "NameError",
     "evalue": "name 'df_prediction' is not defined",
     "output_type": "error",
     "traceback": [
      "\u001b[0;31m---------------------------------------------------------------------------\u001b[0m",
      "\u001b[0;31mNameError\u001b[0m                                 Traceback (most recent call last)",
      "Cell \u001b[0;32mIn[3], line 10\u001b[0m\n\u001b[1;32m      1\u001b[0m \u001b[38;5;66;03m# spd for current dataset\u001b[39;00m\n\u001b[1;32m      2\u001b[0m \u001b[38;5;124;03m\"\"\"\u001b[39;00m\n\u001b[1;32m      3\u001b[0m \u001b[38;5;124;03mRange: The range of SPD is [-1, 1]. \u001b[39;00m\n\u001b[1;32m      4\u001b[0m \u001b[38;5;124;03mA value of -1 indicates that all favorable outcomes are allocated to the majority group, \u001b[39;00m\n\u001b[0;32m   (...)\u001b[0m\n\u001b[1;32m      7\u001b[0m \u001b[38;5;124;03mmeaning the probability of receiving a favorable outcome is equal for both the majority and minority groups.\u001b[39;00m\n\u001b[1;32m      8\u001b[0m \u001b[38;5;124;03m\"\"\"\u001b[39;00m\n\u001b[0;32m---> 10\u001b[0m spd(\u001b[38;5;124m\"\u001b[39m\u001b[38;5;124mGender\u001b[39m\u001b[38;5;124m\"\u001b[39m, \u001b[43mdf_prediction\u001b[49m, df_prediction[\u001b[38;5;124m\"\u001b[39m\u001b[38;5;124mInterview prediction\u001b[39m\u001b[38;5;124m\"\u001b[39m], \u001b[38;5;124m\"\u001b[39m\u001b[38;5;124mM\u001b[39m\u001b[38;5;124m\"\u001b[39m, \u001b[38;5;124m\"\u001b[39m\u001b[38;5;124mF\u001b[39m\u001b[38;5;124m\"\u001b[39m)\n",
      "\u001b[0;31mNameError\u001b[0m: name 'df_prediction' is not defined"
     ]
    }
   ],
   "source": [
    "# spd for current dataset\n",
    "\"\"\"\n",
    "Range: The range of SPD is [-1, 1]. \n",
    "A value of -1 indicates that all favorable outcomes are allocated to the majority group, \n",
    "whereas a value of 1 indicates that all favorable outcomes are allocated to the minority group. \n",
    "Perfect Fairness: A value of 0 indicates perfect fairness, \n",
    "meaning the probability of receiving a favorable outcome is equal for both the majority and minority groups.\n",
    "\"\"\"\n",
    "\n",
    "spd(\"Gender\", df_prediction, df_prediction[\"Interview prediction\"], \"M\", \"F\")"
   ]
  },
  {
   "cell_type": "code",
   "execution_count": null,
   "metadata": {},
   "outputs": [],
   "source": [
    "# di for current dataset\n",
    "\"\"\"\n",
    "Range: DI is a ratio, so its range is [0, ∞). \n",
    "A value of 0 indicates extreme bias against the minority group, \n",
    "and a very high value indicates extreme bias against the majority group. \n",
    "Perfect Fairness: A DI of 1 (or close to 1) represents perfect fairness, \n",
    "suggesting that the probability of receiving a favorable outcome are equal for both groups.\n",
    "\"\"\"\n",
    "\n",
    "di(\"Gender\", df_prediction, df_prediction[\"Interview prediction\"], \"M\", \"F\")"
   ]
  }
 ],
 "metadata": {
  "kernelspec": {
   "display_name": "d1030",
   "language": "python",
   "name": "python3"
  },
  "language_info": {
   "codemirror_mode": {
    "name": "ipython",
    "version": 3
   },
   "file_extension": ".py",
   "mimetype": "text/x-python",
   "name": "python",
   "nbconvert_exporter": "python",
   "pygments_lexer": "ipython3",
   "version": "3.11.4"
  }
 },
 "nbformat": 4,
 "nbformat_minor": 2
}
