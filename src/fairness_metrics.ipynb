{
 "cells": [
  {
   "cell_type": "markdown",
   "metadata": {},
   "source": [
    "## Fairness metrics to evaluate the model"
   ]
  },
  {
   "cell_type": "code",
   "execution_count": 1,
   "metadata": {},
   "outputs": [],
   "source": [
    "import pandas as pd\n",
    "import numpy as np\n",
    "import scipy.stats as stats\n",
    "from sklearn.metrics import confusion_matrix, accuracy_score\n",
    "import seaborn as sns\n",
    "import matplotlib.pyplot as plt\n",
    "from scipy.stats import ttest_ind, chi2_contingency"
   ]
  },
  {
   "cell_type": "markdown",
   "metadata": {},
   "source": [
    "# Evaluate the two datasets with 4000 entries"
   ]
  },
  {
   "cell_type": "code",
   "execution_count": 2,
   "metadata": {},
   "outputs": [],
   "source": [
    "df_prediction_1 = pd.read_csv('../results/candidate_data_4000_res_1.csv')\n",
    "df_prediction_2 = pd.read_csv('../results/candidate_data_4000_res_2.csv')"
   ]
  },
  {
   "cell_type": "code",
   "execution_count": 3,
   "metadata": {},
   "outputs": [],
   "source": [
    "# Statistical Parity Difference\n",
    "def spd(sensitive_attribute, dataset, predicted_labels, majority_class, minority_class):\n",
    "    \"\"\"\n",
    "    Calculate the Statistical Parity Difference (SPD) between majority and minority classes based on predicted labels.\n",
    "\n",
    "    Parameters:\n",
    "    - sensitive_attribute (str): Name of the column representing the sensitive attribute.\n",
    "    - dataset (pd.DataFrame): The dataset containing the sensitive attribute and true outcome variable.\n",
    "    - predicted_labels (pd.Series): Predicted labels for the outcome variable.\n",
    "    - majority_class: Value representing the majority class in the sensitive attribute.\n",
    "    - minority_class: Value representing the minority class in the sensitive attribute.\n",
    "\n",
    "    Returns:\n",
    "    - spd (float): Statistical Parity Difference between majority and minority classes.\n",
    "    \"\"\"\n",
    "    predicted_labels = pd.to_numeric(predicted_labels)\n",
    "    predicted_labels_series = pd.Series(predicted_labels, index=dataset.index)\n",
    "    majority = dataset[dataset[sensitive_attribute] == majority_class]\n",
    "    minority = dataset[dataset[sensitive_attribute] == minority_class]\n",
    "\n",
    "    p_majority = predicted_labels_series[majority.index].mean()\n",
    "    p_minority = predicted_labels_series[minority.index].mean()\n",
    "\n",
    "    spd_val =  p_minority - p_majority\n",
    "    return spd_val"
   ]
  },
  {
   "cell_type": "code",
   "execution_count": 4,
   "metadata": {},
   "outputs": [],
   "source": [
    "# Disparate Impact\n",
    "def di(sensitive_attribute, dataset, predicted_labels, majority_class, minority_class):\n",
    "    \"\"\"\n",
    "    Calculate the Disparate Impact (DI) between majority and minority classes based on predicted labels.\n",
    "\n",
    "    Parameters:\n",
    "    - sensitive_attribute (str): Name of the column representing the sensitive attribute.\n",
    "    - dataset (pd.DataFrame): The dataset containing the sensitive attribute and true outcome variable.\n",
    "    - predicted_labels (pd.Series): Predicted labels for the outcome variable.\n",
    "    - majority_class: Value representing the majority class in the sensitive attribute.\n",
    "    - minority_class: Value representing the minority class in the sensitive attribute.\n",
    "\n",
    "    Returns:\n",
    "    - di (float): Disparate Impact between majority and minority classes.\n",
    "    \"\"\"\n",
    "    predicted_labels = pd.to_numeric(predicted_labels)\n",
    "    predicted_labels_series = pd.Series(predicted_labels, index=dataset.index)\n",
    "    majority = dataset[dataset[sensitive_attribute] == majority_class]\n",
    "    minority = dataset[dataset[sensitive_attribute] == minority_class]\n",
    "\n",
    "    p_majority = predicted_labels_series[majority.index].mean()\n",
    "    p_minority = predicted_labels_series[minority.index].mean()\n",
    "\n",
    "    di_val = p_minority / p_majority\n",
    "    return di_val"
   ]
  },
  {
   "cell_type": "code",
   "execution_count": 5,
   "metadata": {},
   "outputs": [
    {
     "name": "stdout",
     "output_type": "stream",
     "text": [
      "Statistical Parity Difference (SPD) of df_prediction_1 is -0.15909978216600637\n",
      "Statistical Parity Difference (SPD) of df_prediction_2 is -0.15439816149883986\n"
     ]
    }
   ],
   "source": [
    "# spd for current dataset\n",
    "\"\"\"\n",
    "Range: The range of SPD is [-1, 1]. \n",
    "A value of -1 indicates that all favorable outcomes are allocated to the majority group, \n",
    "whereas a value of 1 indicates that all favorable outcomes are allocated to the minority group. \n",
    "Perfect Fairness: A value of 0 indicates perfect fairness, \n",
    "meaning the probability of receiving a favorable outcome is equal for both the majority and minority groups.\n",
    "\"\"\"\n",
    "\n",
    "dfs_spd = {'df_prediction_1': df_prediction_1, 'df_prediction_2': df_prediction_2}\n",
    "\n",
    "for name, df in dfs_spd.items():\n",
    "    res = spd(\"Gender\", df, df[\"Interview prediction\"], \"M\", \"F\")\n",
    "    print(f\"Statistical Parity Difference (SPD) of {name} is {res}\")"
   ]
  },
  {
   "cell_type": "code",
   "execution_count": 6,
   "metadata": {},
   "outputs": [
    {
     "name": "stdout",
     "output_type": "stream",
     "text": [
      "Statistical Parity Difference (SPD) of df_prediction_1 is 0.5826787459851975\n",
      "Statistical Parity Difference (SPD) of df_prediction_2 is 0.5842884531538365\n"
     ]
    }
   ],
   "source": [
    "# di for current dataset\n",
    "\"\"\"\n",
    "Range: DI is a ratio, so its range is [0, ∞). \n",
    "A value of 0 indicates extreme bias against the minority group, \n",
    "and a very high value indicates extreme bias against the majority group. \n",
    "Perfect Fairness: A DI of 1 (or close to 1) represents perfect fairness, \n",
    "suggesting that the probability of receiving a favorable outcome are equal for both groups.\n",
    "\"\"\"\n",
    "\n",
    "dfs_di = {'df_prediction_1': df_prediction_1, 'df_prediction_2': df_prediction_2}\n",
    "\n",
    "for name, df in dfs_di.items():\n",
    "    res = di(\"Gender\", df, df[\"Interview prediction\"], \"M\", \"F\")\n",
    "    print(f\"Statistical Parity Difference (SPD) of {name} is {res}\")\n",
    "    \n"
   ]
  },
  {
   "cell_type": "code",
   "execution_count": 7,
   "metadata": {},
   "outputs": [
    {
     "name": "stdout",
     "output_type": "stream",
     "text": [
      "rm score is 3.35412\n",
      "This means the average resume score difference for the same candidate in two runs is 3.35412\n"
     ]
    }
   ],
   "source": [
    "# RM (Reproducibility Metric)\n",
    "resume_score_1 = df_prediction_1['Resume score']\n",
    "resume_score_2 =df_prediction_2['Resume score']\n",
    "\n",
    "differences = abs(df_prediction_1['Resume score'] - df_prediction_2['Resume score'])\n",
    "total_difference = differences.sum()\n",
    "rm = total_difference / len(df_prediction_1)\n",
    "print(f\"rm score is {rm}\")\n",
    "print(f\"This means the average resume score difference for the same candidate in two runs is {rm}\")"
   ]
  },
  {
   "cell_type": "code",
   "execution_count": 8,
   "metadata": {},
   "outputs": [
    {
     "name": "stdout",
     "output_type": "stream",
     "text": [
      "Mean of 'Resume score' in df_prediction_1: 5.06\n",
      "Standard Deviation of 'Resume score' in df_prediction_1: 2.90\n",
      "Mean of 'Resume score' in df_prediction_2: 5.07\n",
      "Standard Deviation of 'Resume score' in df_prediction_2: 2.90\n"
     ]
    }
   ],
   "source": [
    "# mean and standard deviation\n",
    "mean_score_1 = resume_score_1.mean()\n",
    "std_score_1 = resume_score_1.std()\n",
    "\n",
    "mean_score_2 = resume_score_2.mean()\n",
    "std_score_2 = resume_score_2.std()\n",
    "\n",
    "# Print the results\n",
    "print(f\"Mean of 'Resume score' in df_prediction_1: {mean_score_1:.2f}\")\n",
    "print(f\"Standard Deviation of 'Resume score' in df_prediction_1: {std_score_1:.2f}\")\n",
    "print(f\"Mean of 'Resume score' in df_prediction_2: {mean_score_2:.2f}\")\n",
    "print(f\"Standard Deviation of 'Resume score' in df_prediction_2: {std_score_2:.2f}\")"
   ]
  },
  {
   "cell_type": "code",
   "execution_count": 9,
   "metadata": {},
   "outputs": [
    {
     "name": "stdout",
     "output_type": "stream",
     "text": [
      "95% Confidence Interval for 'Resume score' in df_prediction_1: 4.97 to 5.15\n",
      "95% Confidence Interval for 'Resume score' in df_prediction_2: 4.98 to 5.16\n"
     ]
    }
   ],
   "source": [
    "# confidence interval\n",
    "def calculate_confidence_interval(data, confidence=0.95):\n",
    "    data = np.array(data)\n",
    "    mean = np.mean(data)\n",
    "    sem = stats.sem(data)  # Standard error of the mean\n",
    "    n = len(data)\n",
    "    interval = sem * stats.t.ppf((1 + confidence) / 2., n-1)  # T-distribution multiplier for 95% CI\n",
    "    return (mean - interval, mean + interval)\n",
    "\n",
    "# Calculate the confidence interval for 'Resume score' in both datasets\n",
    "ci_score_1 = calculate_confidence_interval(resume_score_1)\n",
    "ci_score_2 = calculate_confidence_interval(resume_score_2)\n",
    "\n",
    "print(f\"95% Confidence Interval for 'Resume score' in df_prediction_1: {ci_score_1[0]:.2f} to {ci_score_1[1]:.2f}\")\n",
    "print(f\"95% Confidence Interval for 'Resume score' in df_prediction_2: {ci_score_2[0]:.2f} to {ci_score_2[1]:.2f}\")"
   ]
  },
  {
   "cell_type": "code",
   "execution_count": 10,
   "metadata": {},
   "outputs": [
    {
     "name": "stdout",
     "output_type": "stream",
     "text": [
      "The rate of getting an interview of Bold Bank is: 0.19925\n"
     ]
    }
   ],
   "source": [
    "is_interview_1 = df_prediction_1['Interview prediction']\n",
    "is_interview_2 = df_prediction_2['Interview prediction']\n",
    "\n",
    "interview_getting_rate = (sum(is_interview_1) + sum(is_interview_2))/(2*len(is_interview_1))\n",
    "\n",
    "print(\"The rate of getting an interview of Bold Bank is:\",interview_getting_rate)"
   ]
  },
  {
   "cell_type": "markdown",
   "metadata": {},
   "source": [
    "## Create labels based on an assumption that candidates with resume score over 8 could get an interview"
   ]
  },
  {
   "cell_type": "code",
   "execution_count": 11,
   "metadata": {},
   "outputs": [
    {
     "name": "stdout",
     "output_type": "stream",
     "text": [
      "Accuracy of df_prediction_1: 0.68\n"
     ]
    },
    {
     "data": {
      "image/png": "[encoded data removed]",
      "text/plain": [
       "<Figure size 300x300 with 1 Axes>"
      ]
     },
     "metadata": {},
     "output_type": "display_data"
    },
    {
     "name": "stdout",
     "output_type": "stream",
     "text": [
      "--------------------------------------------------\n",
      "Accuracy of df_prediction_2: 0.67\n"
     ]
    },
    {
     "data": {
      "image/png": "[encoded data removed]",
      "text/plain": [
       "<Figure size 300x300 with 1 Axes>"
      ]
     },
     "metadata": {},
     "output_type": "display_data"
    },
    {
     "name": "stdout",
     "output_type": "stream",
     "text": [
      "--------------------------------------------------\n"
     ]
    }
   ],
   "source": [
    "\"\"\"\n",
    "Since the interview getting rate is ~20%, \n",
    "we assume that candidates with resume score over 8 could get an interview\n",
    "\"\"\"\n",
    "\n",
    "df_prediction_1['label'] = np.where(df_prediction_1['Resume score'] >= 8, 1, 0)\n",
    "df_prediction_2['label'] = np.where(df_prediction_2['Resume score'] >= 8, 1, 0)\n",
    "\n",
    "\n",
    "dfs = {'df_prediction_1': df_prediction_1, 'df_prediction_2': df_prediction_2}\n",
    "\n",
    "for name, df in dfs.items():\n",
    "    true_labels = df['label']  # Assuming 'label' column is your true labels\n",
    "    predicted_labels = df['Interview prediction']  # Prediction results\n",
    "    conf_matrix = confusion_matrix(true_labels, predicted_labels)\n",
    "    accuracy = accuracy_score(true_labels, predicted_labels)\n",
    "\n",
    "    print(f\"Accuracy of {name}: {accuracy:.2f}\")\n",
    "    \n",
    "    \n",
    "    # Plotting the confusion matrix\n",
    "    plt.figure(figsize=(3, 3))\n",
    "    sns.heatmap(conf_matrix, annot=True, fmt=\"d\", cmap='Blues', cbar=False)\n",
    "    plt.title(f\"Confusion Matrix of {name}\")\n",
    "    plt.xlabel('Predicted Label')\n",
    "    plt.ylabel('True Label')\n",
    "    plt.show()\n",
    "    \n",
    "    print(\"-\" * 50)"
   ]
  },
  {
   "cell_type": "code",
   "execution_count": 12,
   "metadata": {},
   "outputs": [],
   "source": [
    "# Equal Opportunity Difference (EOD)\n",
    "def eod(sensitive_attribute, predictions, dataset, true_labels, majority_class, minority_class):\n",
    "    \"\"\"\n",
    "    Calculate the Equal Opportunity Difference (EOD) measure.\n",
    "\n",
    "    Parameters:\n",
    "    - sensitive_attribute: The column name of the sensitive attribute in the dataset.\n",
    "    - predictions: Predictions made by the model.\n",
    "    - dataset: The dataset containing the sensitive attribute and the outcome variable.\n",
    "    - outcome_variable: The column name of the outcome variable in the dataset.\n",
    "    - majority_class: The majority class label.\n",
    "    - minority_class: The minority class label.\n",
    "\n",
    "    Returns:\n",
    "    - eod_value: The Equal Opportunity Difference measure.\n",
    "    \"\"\"\n",
    "    # TODO: Compute the eod value\n",
    "    predictions_series = pd.Series(predictions, index=dataset.index)\n",
    "    positive_instances = dataset[true_labels == 1]\n",
    "\n",
    "    # Use .loc to align with the DataFrame's index\n",
    "    majority = positive_instances.loc[dataset[sensitive_attribute] == majority_class]\n",
    "    minority = positive_instances.loc[dataset[sensitive_attribute] == minority_class]\n",
    "\n",
    "    p_majority = predictions_series.loc[majority.index].mean()\n",
    "    p_minority = predictions_series.loc[minority.index].mean()\n",
    "\n",
    "    eod_value = p_minority - p_majority\n",
    "    return eod_value"
   ]
  },
  {
   "cell_type": "code",
   "execution_count": 13,
   "metadata": {},
   "outputs": [],
   "source": [
    "# Average Absolute Odds Difference (AAOD)\n",
    "def aaod(sensitive_attribute, predictions, dataset, true_labels, majority_class, minority_class):\n",
    "    \"\"\"\n",
    "    Calculate the Average Absolute Odds Difference (AAOD) to measure bias.\n",
    "\n",
    "    Parameters:\n",
    "    - sensitive_attribute (str): The name of the sensitive attribute in the dataset.\n",
    "    - predictions (pd.Series): The predicted values.\n",
    "    - dataset (pd.DataFrame): The dataset containing the sensitive attribute, predictions, and outcome variable.\n",
    "    - outcome_variable (str): The name of the outcome variable in the dataset.\n",
    "    - majority_class (int): The label of the majority class.\n",
    "    - minority_class (int): The label of the minority class.\n",
    "\n",
    "    Returns:\n",
    "    - float: The calculated Average Absolute Odds Difference (AAOD).\n",
    "    \"\"\"\n",
    "    # TODO: Compute the aaod value\n",
    "    def tpr_fpr_calculation(group):\n",
    "        TP = ((predictions == 1) & (true_labels == 1) & group).sum()\n",
    "        FP = ((predictions == 1) & (true_labels == 0) & group).sum()\n",
    "        TN = ((predictions == 0) & (true_labels == 0) & group).sum()\n",
    "        FN = ((predictions == 0) & (true_labels == 1) & group).sum()\n",
    "\n",
    "        TPR = TP / (TP + FN) if (TP + FN) > 0 else 0\n",
    "        FPR = FP / (FP + TN) if (FP + TN) > 0 else 0\n",
    "\n",
    "        return FPR, TPR\n",
    "\n",
    "    majority_group = dataset[sensitive_attribute] == majority_class\n",
    "    minority_group = dataset[sensitive_attribute] == minority_class\n",
    "\n",
    "    FPR_majority, TPR_majority = tpr_fpr_calculation(majority_group)\n",
    "    FPR_minority, TPR_minority = tpr_fpr_calculation(minority_group)\n",
    "\n",
    "    aaod_value = 0.5 * (abs(FPR_minority - FPR_majority) + abs(TPR_minority - TPR_majority))\n",
    "    return aaod_value"
   ]
  },
  {
   "cell_type": "code",
   "execution_count": 14,
   "metadata": {},
   "outputs": [
    {
     "name": "stdout",
     "output_type": "stream",
     "text": [
      "Equal Opportunity Difference (EOD) Score of df_prediction_1: -0.09901393831553973\n",
      "Equal Opportunity Difference (EOD) Score of df_prediction_2: -0.10192612398494749\n"
     ]
    }
   ],
   "source": [
    "# eod\n",
    "\n",
    "\"\"\"Range: The range of SPD is [-1, 1]. \n",
    "A value of -1 indicates that all favorable outcomes are allocated to the majority group, \n",
    "whereas a value of 1 indicates that all favorable outcomes are allocated to the minority group.\n",
    "Perfect Fairness: An EOD of 0 indicates perfect fairness, implying that both groups have an equal \n",
    "probability of receiving a favorable outcome when the true condition is positive.\"\"\"\n",
    "\n",
    "dfs_eod = {'df_prediction_1': df_prediction_1, 'df_prediction_2': df_prediction_2}\n",
    "\n",
    "for name, df in dfs_eod.items(): \n",
    "    eod_score = eod('Gender', df['Interview prediction'], df, df['label'], 'M','F')\n",
    "    print(f\"Equal Opportunity Difference (EOD) Score of {name}: {eod_score}\")"
   ]
  },
  {
   "cell_type": "code",
   "execution_count": 15,
   "metadata": {},
   "outputs": [
    {
     "name": "stdout",
     "output_type": "stream",
     "text": [
      "Average Absolute Odds Difference (AAOD) Score of df_prediction_1: 0.13712289465120092\n",
      "Average Absolute Odds Difference (AAOD) Score of df_prediction_2: 0.13507383094860353\n"
     ]
    }
   ],
   "source": [
    "# aaod\n",
    "\n",
    "\"\"\"\n",
    "Range: The range of AAOD is also [−1,1]. \n",
    "A value of -1 indicates extreme bias in one direction, \n",
    "whereas a value of 1 indicates extreme bias in the opposite direction. \n",
    "Perfect Fairness: An AAOD of 0 indicates perfect fairness, \n",
    "meaning that both the false positive rate and the true positive rate are equal across groups.\n",
    "\"\"\"\n",
    "\n",
    "dfs_aaod = {'df_prediction_1': df_prediction_1, 'df_prediction_2': df_prediction_2}\n",
    "\n",
    "\n",
    "for name, df in dfs_aaod.items():\n",
    "    aaod_score = aaod('Gender', df['Interview prediction'], df, df['label'], 'M','F')\n",
    "    print(f\"Average Absolute Odds Difference (AAOD) Score of {name}: {aaod_score}\")"
   ]
  },
  {
   "cell_type": "markdown",
   "metadata": {},
   "source": [
    "# Evaluate manually made dataset with control group"
   ]
  },
  {
   "cell_type": "code",
   "execution_count": 16,
   "metadata": {},
   "outputs": [],
   "source": [
    "data1 = pd.read_csv('../results/candidate_data_manual_res_1.csv')\n",
    "data2 = pd.read_csv('../results/candidate_data_manual_res_2.csv')\n",
    "\n",
    "#data1.head(), data2.head()"
   ]
  },
  {
   "cell_type": "code",
   "execution_count": 17,
   "metadata": {},
   "outputs": [
    {
     "name": "stdout",
     "output_type": "stream",
     "text": [
      "count    52.000000\n",
      "mean      5.081538\n",
      "std       3.072707\n",
      "min       0.060000\n",
      "25%       3.002500\n",
      "50%       4.585000\n",
      "75%       8.192500\n",
      "max       9.930000\n",
      "Name: Resume score, dtype: float64\n",
      "count    52.000000\n",
      "mean      4.810962\n",
      "std       2.838704\n",
      "min       0.140000\n",
      "25%       2.665000\n",
      "50%       4.505000\n",
      "75%       7.462500\n",
      "max       9.990000\n",
      "Name: Resume score, dtype: float64\n",
      "--------------------------------------------------\n",
      "1    34\n",
      "0    18\n",
      "Name: Interview prediction, dtype: int64\n",
      "0    37\n",
      "1    15\n",
      "Name: Interview prediction, dtype: int64\n"
     ]
    }
   ],
   "source": [
    "merged_data = pd.concat([data1, data2])\n",
    "\n",
    "# Split data by gender\n",
    "male_data = merged_data[merged_data['Gender'] == 'M']\n",
    "female_data = merged_data[merged_data['Gender'] == 'F']\n",
    "\n",
    "# Overview of split datasets for 'Resume score' and 'Interview prediction'\n",
    "male_resume_scores = male_data['Resume score']\n",
    "female_resume_scores = female_data['Resume score']\n",
    "male_interview_predictions = male_data['Interview prediction']\n",
    "female_interview_predictions = female_data['Interview prediction']\n",
    "\n",
    "print(male_resume_scores.describe())\n",
    "print(female_resume_scores.describe())\n",
    "print(\"-\"*50)\n",
    "print(male_interview_predictions.value_counts())\n",
    "print(female_interview_predictions.value_counts())"
   ]
  },
  {
   "cell_type": "markdown",
   "metadata": {},
   "source": [
    "## Hypothesis testing"
   ]
  },
  {
   "cell_type": "code",
   "execution_count": 19,
   "metadata": {},
   "outputs": [
    {
     "name": "stdout",
     "output_type": "stream",
     "text": [
      "P value is 0.6419164328167465\n",
      "There is no statistically significant difference in resume scores between male and female candidates.\n",
      "P value is 0.0004062655737454636\n",
      "There is a statistically significant difference in interview predictions between male and female candidates.\n"
     ]
    }
   ],
   "source": [
    "\"\"\"\n",
    "The t-test: asks whether the average (mean) performance \n",
    "(as measured by resume scores) differs between genders.\n",
    "\n",
    "The chi-square test: asks whether the likelihood of a particular categorical \n",
    "outcome (passing or failing the interview) is different between genders.\n",
    "\"\"\"\n",
    "\n",
    "# Perform two-sample t-test on Resume scores\n",
    "t_stat, p_value_resume = ttest_ind(male_resume_scores, female_resume_scores, equal_var=False)\n",
    "\n",
    "# Interpret and print the result for Resume scores\n",
    "print(f\"P value is {p_value_resume}\")\n",
    "if p_value_resume < 0.05:\n",
    "    print(\"There is a statistically significant difference in resume scores between male and female candidates.\")\n",
    "else:\n",
    "    print(\"There is no statistically significant difference in resume scores between male and female candidates.\")\n",
    "\n",
    "# Create a contingency table for Interview predictions\n",
    "contingency_table = pd.crosstab(merged_data['Gender'], merged_data['Interview prediction'])\n",
    "\n",
    "# Perform chi-square test on Interview predictions\n",
    "chi2_stat, p_value_interview, dof, expected = chi2_contingency(contingency_table)\n",
    "\n",
    "# Interpret and print the result for Interview predictions\n",
    "print(f\"P value is {p_value_interview}\")\n",
    "if p_value_interview < 0.05:\n",
    "    print(\"There is a statistically significant difference in interview predictions between male and female candidates.\")\n",
    "else:\n",
    "    print(\"There is no statistically significant difference in interview predictions between male and female candidates.\")\n",
    "\n"
   ]
  },
  {
   "cell_type": "code",
   "execution_count": null,
   "metadata": {},
   "outputs": [],
   "source": []
  }
 ],
 "metadata": {
  "kernelspec": {
   "display_name": "Python 3 (ipykernel)",
   "language": "python",
   "name": "python3"
  },
  "language_info": {
   "codemirror_mode": {
    "name": "ipython",
    "version": 3
   },
   "file_extension": ".py",
   "mimetype": "text/x-python",
   "name": "python",
   "nbconvert_exporter": "python",
   "pygments_lexer": "ipython3",
   "version": "3.9.12"
  }
 },
 "nbformat": 4,
 "nbformat_minor": 2
}
