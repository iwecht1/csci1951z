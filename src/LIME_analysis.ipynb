{
 "cells": [
  {
   "cell_type": "markdown",
   "metadata": {},
   "source": [
    "## LIME"
   ]
  },
  {
   "cell_type": "code",
   "execution_count": null,
   "metadata": {},
   "outputs": [],
   "source": [
    "# Separate 'Applicant ID' from the rest of the DataFrame\n",
    "applicant_ids = df['Applicant ID']\n",
    "df_features = df.drop('Applicant ID', axis=1)\n",
    "\n",
    "# One-hot encode categorical variables\n",
    "df_encoded = pd.get_dummies(df_features, drop_first=True)\n",
    "\n",
    "# Scale the numeric features (StandardScaler expects numeric values)\n",
    "scaler = StandardScaler()\n",
    "df_encoded_scaled = scaler.fit_transform(df_encoded)\n",
    "\n",
    "# Add 'Applicant ID' back to the DataFrame\n",
    "df_encoded_scaled_with_id = pd.DataFrame(df_encoded_scaled, columns=df_encoded.columns)\n",
    "df_encoded_scaled_with_id['Applicant ID'] = applicant_ids\n",
    "\n",
    "# Initialize the explainer for classification\n",
    "explainer = lime.lime_tabular.LimeTabularExplainer(\n",
    "    training_data=df_encoded_scaled_with_id.drop('Applicant ID', axis=1).values,\n",
    "    feature_names=df_encoded.columns,\n",
    "    class_names=['No Interview', 'Interview'],\n",
    "    mode='classification',\n",
    "    discretize_continuous=True\n",
    ")\n",
    "\n",
    "# Select an instance to explain\n",
    "instance_index = 1  # Adjust this to your specific instance\n",
    "instance = df_encoded_scaled_with_id.drop('Applicant ID', axis=1).iloc[instance_index].values\n",
    "\n",
    "\n",
    "def predict_res(data_as_np):\n",
    "    # Reshape the input data to match the original shape\n",
    "    input_df = pd.DataFrame(data_as_np, columns=df_encoded_scaled_with_id.drop('Applicant ID', axis=1).columns)\n",
    "    # Add 'Applicant ID' back to the DataFrame\n",
    "    num_rows = len(input_df)\n",
    "    input_df['Applicant ID'] = range(1, num_rows + 1)\n",
    "    # Make predictions using the model_predict function\n",
    "    predictions_df = model_predict(input_df)\n",
    "    \n",
    "    if predictions_df is None:\n",
    "        print(\"Error: Unable to make predictions\")\n",
    "        return None\n",
    "    \n",
    "    return predictions_df['Interview prediction'].values\n",
    "\n",
    "# Explain the prediction\n",
    "exp = explainer.explain_instance(\n",
    "    instance,\n",
    "    predict_res, \n",
    "    num_features=5, \n",
    "    top_labels=1\n",
    ")\n",
    "exp.show_in_notebook(show_table=True, show_all=False)"
   ]
  }
 ],
 "metadata": {
  "language_info": {
   "name": "python"
  }
 },
 "nbformat": 4,
 "nbformat_minor": 2
}
